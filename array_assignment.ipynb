{
 "cells": [
  {
   "cell_type": "raw",
   "id": "1b3e7ecf",
   "metadata": {},
   "source": [
    "1. Given an array, check if it contains any duplicates or not.\n",
    "arr = [1, 2, 4, 2, 5, 9]\n",
    "Output = True"
   ]
  },
  {
   "cell_type": "code",
   "execution_count": 5,
   "id": "ec1de65e",
   "metadata": {},
   "outputs": [
    {
     "name": "stdout",
     "output_type": "stream",
     "text": [
      "True\n"
     ]
    }
   ],
   "source": [
    "def contains_duplicates(arr):\n",
    "    frequency = {}\n",
    "    for num in arr:\n",
    "        if num in frequency:\n",
    "            return True\n",
    "        frequency[num] = 1\n",
    "    return False\n",
    "\n",
    "# Example usage:\n",
    "arr = [1, 2, 4, 2, 5, 9]\n",
    "print(contains_duplicates(arr))  # Output: True\n"
   ]
  },
  {
   "cell_type": "raw",
   "id": "072faeab",
   "metadata": {},
   "source": [
    "2. Given an array and an integer k, rotate the array to the right by k steps.\n",
    "arr = [1, 2, 3, 4, 5, 6, 7] k = 3\n",
    "Output = [5, 6, 7, 1, 2, 3, 4]"
   ]
  },
  {
   "cell_type": "code",
   "execution_count": 6,
   "id": "6c948ec7",
   "metadata": {},
   "outputs": [
    {
     "name": "stdout",
     "output_type": "stream",
     "text": [
      "[5, 6, 7, 1, 2, 3, 4]\n"
     ]
    }
   ],
   "source": [
    "def rotate_array(arr, k):\n",
    "    # Calculate the effective rotation steps (in case k is larger than the array length)\n",
    "    k = k % len(arr)\n",
    "    \n",
    "    # Rotate the array using slicing\n",
    "    arr[:] = arr[-k:] + arr[:-k]\n",
    "\n",
    "# Example usage:\n",
    "arr = [1, 2, 3, 4, 5, 6, 7]\n",
    "k = 3\n",
    "rotate_array(arr, k)\n",
    "print(arr)  # Output: [5, 6, 7, 1, 2, 3, 4]\n"
   ]
  },
  {
   "cell_type": "raw",
   "id": "3f4db8ac",
   "metadata": {},
   "source": [
    "3. Reverse the given array in-place, means without using any extra data structure.\n",
    "arr = [2, 4, 5, 7, 9, 12]\n",
    "Output = [12, 9, 7, 5, 4, 2]"
   ]
  },
  {
   "cell_type": "code",
   "execution_count": 7,
   "id": "925ded49",
   "metadata": {},
   "outputs": [
    {
     "name": "stdout",
     "output_type": "stream",
     "text": [
      "[12, 9, 7, 5, 4, 2]\n"
     ]
    }
   ],
   "source": [
    "def reverse_array(arr):\n",
    "    # Use Python slicing to reverse the array in-place\n",
    "    arr[:] = arr[::-1]\n",
    "\n",
    "# Example usage:\n",
    "arr = [2, 4, 5, 7, 9, 12]\n",
    "reverse_array(arr)\n",
    "print(arr)  # Output: [12, 9, 7, 5, 4, 2]\n"
   ]
  },
  {
   "cell_type": "raw",
   "id": "40847cea",
   "metadata": {},
   "source": [
    "4. Given an array of integers, find the maximum element in an array\n",
    "arr = [10, 5, 20, 8, 15]\n",
    "Output = 20"
   ]
  },
  {
   "cell_type": "code",
   "execution_count": 8,
   "id": "8d09a5e3",
   "metadata": {},
   "outputs": [
    {
     "name": "stdout",
     "output_type": "stream",
     "text": [
      "20\n"
     ]
    }
   ],
   "source": [
    "def find_max(arr):\n",
    "    if not arr:\n",
    "        return None  # Handle empty array case\n",
    "    max_element = arr[0]\n",
    "    for num in arr:\n",
    "        if num > max_element:\n",
    "            max_element = num\n",
    "    return max_element\n",
    "\n",
    "# Example usage:\n",
    "arr = [10, 5, 20, 8, 15]\n",
    "max_element = find_max(arr)\n",
    "print(max_element)  # Output: 20\n"
   ]
  },
  {
   "cell_type": "raw",
   "id": "d2f2ff95",
   "metadata": {},
   "source": [
    "5. Given a sorted array, remove the duplicate element without using any extra data structure.\n",
    "arr = [1, 1, 2, 2, 2, 3, 3, 4, 4, 4, 5, 5]\n",
    "Output = [1, 2, 3, 4, 5]"
   ]
  },
  {
   "cell_type": "code",
   "execution_count": 9,
   "id": "63c9e38b",
   "metadata": {},
   "outputs": [
    {
     "name": "stdout",
     "output_type": "stream",
     "text": [
      "[1, 2, 3, 4, 5]\n"
     ]
    }
   ],
   "source": [
    "def remove_duplicates(arr):\n",
    "    if not arr:\n",
    "        return []\n",
    "    \n",
    "    unique_index = 0\n",
    "    for i in range(1, len(arr)):\n",
    "        if arr[i] != arr[unique_index]:\n",
    "            unique_index += 1\n",
    "            arr[unique_index] = arr[i]\n",
    "    \n",
    "    # Truncate the array to keep only unique elements\n",
    "    del arr[unique_index + 1:]\n",
    "\n",
    "# Example usage:\n",
    "arr = [1, 1, 2, 2, 2, 3, 3, 4, 4, 4, 5, 5]\n",
    "remove_duplicates(arr)\n",
    "print(arr)  # Output: [1, 2, 3, 4, 5]\n"
   ]
  },
  {
   "cell_type": "code",
   "execution_count": null,
   "id": "27ddaebd",
   "metadata": {},
   "outputs": [],
   "source": []
  }
 ],
 "metadata": {
  "kernelspec": {
   "display_name": "Python 3 (ipykernel)",
   "language": "python",
   "name": "python3"
  },
  "language_info": {
   "codemirror_mode": {
    "name": "ipython",
    "version": 3
   },
   "file_extension": ".py",
   "mimetype": "text/x-python",
   "name": "python",
   "nbconvert_exporter": "python",
   "pygments_lexer": "ipython3",
   "version": "3.10.9"
  }
 },
 "nbformat": 4,
 "nbformat_minor": 5
}
